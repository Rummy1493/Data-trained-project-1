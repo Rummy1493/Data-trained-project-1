{
 "cells": [
  {
   "cell_type": "code",
   "execution_count": null,
   "id": "6aabcb34",
   "metadata": {},
   "outputs": [],
   "source": [
    "import selenium\n",
    "import pandas as pd\n",
    "from selenium import webdriver\n",
    "import warnings\n",
    "warnings.filterwarnings('ignore')\n",
    "from selenium.common.exceptions import StaleElementReferenceException, NoSuchElementException\n",
    "from selenium.webdriver.common.by import By\n",
    "import time"
   ]
  },
  {
   "cell_type": "code",
   "execution_count": null,
   "id": "9a582597",
   "metadata": {},
   "outputs": [],
   "source": [
    "#Q1: Write a python program to scrape data for “Data Analyst” Job position in “Bangalore” location. You have to scrape the job-title, job-location, company_name, experience_required. You have to scrape first 10 jobs data. This task will be done in following steps:\n"
   ]
  },
  {
   "cell_type": "code",
   "execution_count": null,
   "id": "fd521363",
   "metadata": {},
   "outputs": [],
   "source": [
    "driver=webdriver.Chrome(r\"C:\\Users\\bhati\\OneDrive\\Desktop\\chromedriver\\chromedriver.exe\")\n"
   ]
  },
  {
   "cell_type": "code",
   "execution_count": null,
   "id": "5028c1c0",
   "metadata": {},
   "outputs": [],
   "source": [
    "driver = webdriver.Chrome(r'chromedriver.exe')\n",
    "driver"
   ]
  },
  {
   "cell_type": "code",
   "execution_count": null,
   "id": "41357665",
   "metadata": {},
   "outputs": [],
   "source": [
    "url ='https://www.naukri.com/'\n",
    "driver.get(url)"
   ]
  },
  {
   "cell_type": "code",
   "execution_count": null,
   "id": "e6911dff",
   "metadata": {},
   "outputs": [],
   "source": [
    "driver.find_element(By.XPATH,'//*[@id=\"root\"]/div[6]/div/div/div[1]/div/div/div[1]/input').send_keys('Data Analyst')\n",
    "driver.find_element(By.XPATH,'//*[@id=\"root\"]/div[6]/div/div/div[5]/div/div/div/input').send_keys('Bangalore')\n",
    "driver.find_element(By.XPATH,'//*[@id=\"root\"]/div[6]/div/div/div[6]').click()"
   ]
  },
  {
   "cell_type": "code",
   "execution_count": 7,
   "id": "efb6024d",
   "metadata": {},
   "outputs": [],
   "source": [
    "job_title =[]\n",
    "job_location=[]\n",
    "company =[]\n",
    "experienced=[]"
   ]
  },
  {
   "cell_type": "code",
   "execution_count": null,
   "id": "3704f173",
   "metadata": {},
   "outputs": [],
   "source": [
    "titles=driver.find_elements(By.XPATH,'//div[@class=\"info fleft\"]/a')[:10]\n",
    "company_title=driver.find_elements(By.XPATH,'//a[@class=\"subTitle ellipsis fleft\"]')[:10]\n",
    "company_location= driver.find_elements(By.XPATH,'//li[@class=\"fleft grey-text br2 placeHolderLi location\"]')[:10]\n",
    "experience_require=driver.find_elements(By.XPATH,\"//li[@class='fleft grey-text br2 placeHolderLi experience']/span[1]\")[0:10]"
   ]
  },
  {
   "cell_type": "code",
   "execution_count": null,
   "id": "e8dbe939",
   "metadata": {},
   "outputs": [],
   "source": [
    "for i in titles:\n",
    "    job_title.append(i.text)\n",
    "for i in company_title:\n",
    "    company.append(i.text)\n",
    "for i in company_location:\n",
    "    job_location.append(i.text)\n",
    "for i in experience_require:\n",
    "    experience=i.text\n",
    "    experienced.append(experience)"
   ]
  },
  {
   "cell_type": "code",
   "execution_count": 10,
   "id": "4d279f7a",
   "metadata": {},
   "outputs": [],
   "source": [
    "#Q2: Write a python program to scrape data for “Data Scientist” Job position in “Bangalore” location. You have to scrape the job-title, job-location,company_name, full job-description. You have to scrape first 10 jobs data.\n"
   ]
  },
  {
   "cell_type": "code",
   "execution_count": null,
   "id": "4739cf9a",
   "metadata": {},
   "outputs": [],
   "source": [
    "# connecting Webdriver\n",
    "driver = webdriver.Chrome(r'chromedriver.exe')\n",
    "driver\n",
    "\n",
    "# Opening naukri.com\n",
    "url ='https://www.naukri.com/'\n",
    "driver.get(url)\n",
    "Sending Input as “D"
   ]
  },
  {
   "cell_type": "code",
   "execution_count": null,
   "id": "df36335b",
   "metadata": {},
   "outputs": [],
   "source": [
    "driver.find_element(By.XPATH,'//*[@id=\"root\"]/div[6]/div/div/div[1]/div/div/div[1]/input').send_keys('Data Scientist')\n",
    "driver.find_element(By.XPATH,'//*[@id=\"root\"]/div[6]/div/div/div[5]/div/div/div/input').send_keys('Bangalore')\n",
    "driver.find_element(By.XPATH,'//*[@id=\"root\"]/div[6]/div/div/div[6]').click()"
   ]
  },
  {
   "cell_type": "code",
   "execution_count": 14,
   "id": "3a9fa057",
   "metadata": {},
   "outputs": [],
   "source": [
    "job_title=[]\n",
    "job_location=[]\n",
    "company_name=[]\n",
    "job_description=[]"
   ]
  },
  {
   "cell_type": "code",
   "execution_count": null,
   "id": "c8571239",
   "metadata": {},
   "outputs": [],
   "source": [
    "\n",
    "URL=[]\n",
    "job_tags=driver.find_elements(By.XPATH,\"//a[@class='title fw500 ellipsis']\")[0:10]\n",
    "for i in job_tags:\n",
    "    URL.append(i.get_attribute('href'))"
   ]
  },
  {
   "cell_type": "code",
   "execution_count": 16,
   "id": "33b0795a",
   "metadata": {},
   "outputs": [],
   "source": [
    "for i in URL:\n",
    "    driver.get(i)\n",
    "    try:\n",
    "        job_title.append((driver.find_element(By.XPATH,'//*[@id=\"root\"]/main/div[2]/div[2]/section[1]/div[1]/div[1]/header/h1')).text)\n",
    "        job_location.append((driver.find_element(By.XPATH,'//*[@id=\"root\"]/main/div[2]/div[2]/section[1]/div[1]/div[2]/div[3]/span')).text)\n",
    "        company_name.append((driver.find_element(By.XPATH,'//*[@id=\"root\"]/main/div[2]/div[2]/section[1]/div[1]/div[1]/div/a')).text)\n",
    "        job_description.append((driver.find_element(By.XPATH,'//*[@id=\"root\"]/main/div[2]/div[2]/section[2]')).text.replace(\"\\n\",\"\"))\n",
    "    except NoSuchElementException:\n",
    "        job_title.append(\"Nan\")\n",
    "        job_location.append(\"Nan\")\n",
    "        company_name.append(\"Nan\")\n",
    "        job_description.append(\"Nan\")"
   ]
  },
  {
   "cell_type": "code",
   "execution_count": null,
   "id": "69e7a86c",
   "metadata": {},
   "outputs": [],
   "source": [
    "print('\\033[1m'+'Top 10 Data Analyst Job at Bangrole :'+'\\033[0m')\n",
    "Data_scientist"
   ]
  },
  {
   "cell_type": "code",
   "execution_count": 19,
   "id": "3b741652",
   "metadata": {},
   "outputs": [],
   "source": [
    "#Q3: In this question you have to scrape data using the filters available on thewebpage as shown below: You have to use the location and salary filter. You have to scrape data for “Data Scientist” designation for first 10 job results. You have to scrape the job-title, job-location, company_name, experience_required. The location filter to be used is “Delhi/NCR” . The salary filter to be used is “3-6” lakhs.\n",
    "\n",
    "driver = webdriver.Chrome(r'chromedriver.exe')\n",
    "driver\n",
    "\n",
    "# Opening naukri.com\n",
    "url ='https://www.naukri.com/'\n",
    "driver.get(url)"
   ]
  },
  {
   "cell_type": "code",
   "execution_count": null,
   "id": "7b3b2376",
   "metadata": {},
   "outputs": [],
   "source": [
    "driver.find_element(By.XPATH,'//*[@id=\"root\"]/div[6]/div/div/div[1]/div/div/div[1]/input').send_keys('Data Scientist')\n",
    "driver.find_element(By.XPATH,'//*[@id=\"root\"]/div[6]/div/div/div[6]').click()"
   ]
  },
  {
   "cell_type": "code",
   "execution_count": null,
   "id": "49532347",
   "metadata": {},
   "outputs": [],
   "source": [
    "driver.find_element(By.XPATH,'//*[@id=\"root\"]/div[4]/div/section[1]/div[2]/div[2]/div[2]/div[2]/label/p/span[1]').click()\n"
   ]
  },
  {
   "cell_type": "code",
   "execution_count": null,
   "id": "f66196f2",
   "metadata": {},
   "outputs": [],
   "source": [
    "driver.find_element(By.XPATH,'//*[@id=\"root\"]/div[4]/div/section[1]/div[2]/div[3]/div[2]/div[1]/label/i').click()\n"
   ]
  },
  {
   "cell_type": "code",
   "execution_count": null,
   "id": "c2208ba7",
   "metadata": {},
   "outputs": [],
   "source": [
    "job_title =[]\n",
    "job_location=[]\n",
    "company =[]\n",
    "experienced=[]"
   ]
  },
  {
   "cell_type": "code",
   "execution_count": null,
   "id": "6f219130",
   "metadata": {},
   "outputs": [],
   "source": [
    "titles=driver.find_elements(By.XPATH,'//a[@class=\"title fw500 ellipsis\"]')[:10]\n",
    "company_title=driver.find_elements(By.XPATH,'//a[@class=\"subTitle ellipsis fleft\"]')[:10]\n",
    "company_location= driver.find_elements(By.XPATH,'//li[@class=\"fleft grey-text br2 placeHolderLi location\"]')[:10]\n",
    "experience_require=driver.find_elements(By.XPATH,\"//li[@class='fleft grey-text br2 placeHolderLi experience']/span[1]\")[0:10]"
   ]
  },
  {
   "cell_type": "code",
   "execution_count": null,
   "id": "dc3741a6",
   "metadata": {},
   "outputs": [],
   "source": [
    "for i in titles:\n",
    "    job_title.append(i.text)\n",
    "for i in company_title:\n",
    "    company.append(i.text)\n",
    "for i in company_location:\n",
    "    job_location.append(i.text)\n",
    "for i in experience_require:\n",
    "    experience=i.text\n",
    "    experienced.append(experience)"
   ]
  },
  {
   "cell_type": "code",
   "execution_count": null,
   "id": "8741137e",
   "metadata": {},
   "outputs": [],
   "source": [
    "Data_scientist=pd.DataFrame({})\n",
    "Data_scientist['JOB TITLE']=job_title\n",
    "Data_scientist['COMPANY']=company\n",
    "Data_scientist['JOB LOCATION']=job_location\n",
    "Data_scientist['Experience Require']=experienced\n",
    "print('/033[1m'+'Top 10 Data Analyst Job at Bangrole :'+'/033[0m')\n",
    "Data_scientist"
   ]
  },
  {
   "cell_type": "code",
   "execution_count": null,
   "id": "f1914408",
   "metadata": {},
   "outputs": [],
   "source": [
    "#Q4 : Scrape data of first 100 sunglasses listings on flipkart.com. You have to scrape four attributes:\n",
    "#Brand\n",
    "#Product Description\n",
    "#Price\n",
    "#Discount %"
   ]
  },
  {
   "cell_type": "code",
   "execution_count": null,
   "id": "d49278b7",
   "metadata": {},
   "outputs": [],
   "source": [
    "driver = webdriver.Chrome(r'chromedriver.exe')\n",
    "driver\n",
    "\n",
    "# Opening naukri.com\n",
    "url ='https://www.flipkart.com/'\n",
    "driver.get(url)"
   ]
  },
  {
   "cell_type": "code",
   "execution_count": null,
   "id": "cb326128",
   "metadata": {},
   "outputs": [],
   "source": [
    "driver.find_element(By.XPATH,'//*[@id=\"container\"]/div/div[1]/div[1]/div[2]/div[2]/form/div/div/input').send_keys('sunglasses')\n",
    "driver.find_element(By.XPATH,'//*[@id=\"container\"]/div/div[1]/div[1]/div[2]/div[2]/form/div/button').click()"
   ]
  },
  {
   "cell_type": "code",
   "execution_count": null,
   "id": "7a1ce2d4",
   "metadata": {},
   "outputs": [],
   "source": [
    "name=[]\n",
    "des=[]\n",
    "price=[]\n",
    "dis=[]"
   ]
  },
  {
   "cell_type": "code",
   "execution_count": null,
   "id": "dfa04eda",
   "metadata": {},
   "outputs": [],
   "source": [
    "URL=[]\n",
    "for i in range(0,3):\n",
    "    S_g_url=driver.find_elements(By.XPATH,\"//nav[@class='yFHi8N']//a\")\n",
    "    for i in S_g_url:\n",
    "        URL.append(i.get_attribute('href'))\n",
    "    # Clicking on NEXT button at end of page\n",
    "    driver.find_element(By.XPATH,'//a[@class=\"_1LKTO3\"]').click()\n",
    "    time.sleep(4)"
   ]
  },
  {
   "cell_type": "code",
   "execution_count": null,
   "id": "a5d20125",
   "metadata": {},
   "outputs": [],
   "source": [
    "URL[:3]\n"
   ]
  },
  {
   "cell_type": "code",
   "execution_count": null,
   "id": "77b225fe",
   "metadata": {},
   "outputs": [],
   "source": [
    "for i in URL[:3]:\n",
    "    driver.get(i)\n",
    "    title=driver.find_elements(By.CLASS_NAME,\"_2WkVRV\")\n",
    "    for i in title:\n",
    "         name.append(i.text)\n",
    "            \n",
    "    desc=driver.find_elements(By.CLASS_NAME,'IRpwTa')\n",
    "    for i in desc:\n",
    "        des.append(i.text)\n",
    "        \n",
    "    amount=driver.find_elements(By.CLASS_NAME,'_30jeq3')\n",
    "    for i in amount:\n",
    "        price.append(i.text)\n",
    "        \n",
    "    less=driver.find_elements(By.XPATH,'//div[@class=\"_3Ay6Sb\"]')\n",
    "    for i in less:\n",
    "        dis.append(i.text)\n",
    "    "
   ]
  },
  {
   "cell_type": "code",
   "execution_count": null,
   "id": "1ef4b147",
   "metadata": {},
   "outputs": [],
   "source": [
    "Sunglasses=pd.DataFrame({})\n",
    "Sunglasses['Brand']=name[:100]\n",
    "Sunglasses['Product_Description']=des[:100]\n",
    "Sunglasses['Price']=price[:100]\n",
    "Sunglasses['Discount']=dis[:100]"
   ]
  },
  {
   "cell_type": "code",
   "execution_count": null,
   "id": "94347ecf",
   "metadata": {},
   "outputs": [],
   "source": [
    "Sunglasses"
   ]
  },
  {
   "cell_type": "code",
   "execution_count": null,
   "id": "f0ffb91e",
   "metadata": {},
   "outputs": [],
   "source": [
    "#Q5: Scrape 100 reviews data from flipkart.com for iphone11 phone.\n"
   ]
  },
  {
   "cell_type": "code",
   "execution_count": null,
   "id": "fac906bc",
   "metadata": {},
   "outputs": [],
   "source": [
    "driver = webdriver.Chrome(r'chromedriver.exe')\n",
    "driver"
   ]
  },
  {
   "cell_type": "code",
   "execution_count": null,
   "id": "4e17ff1d",
   "metadata": {},
   "outputs": [],
   "source": [
    "url ='https://www.flipkart.com/apple-iphone-11-white-128-gb/p/itme32df47ea6742?pid=MOBFWQ6B7KKRXDDS&lid=LSTMOBFWQ6B7KKRXDDSUPVRTR&marketplace=FLIPKART&q=iphone+11&store=tyy%2F4io&srno=s_1_1&otracker=AS_QueryStore_OrganicAutoSuggest_1_6_na_na_na&otracker1=AS_QueryStore_OrganicAutoSuggest_1_6_na_na_na&fm=organic&iid=8b9325df-98b3-498d-89de-d1a10f8f8a58.MOBFWQ6B7KKRXDDS.SEARCH&ppt=hp&ppn=homepage&ssid=o0ppn9bno00000001664723071893&qH=f6cdfdaa9f3c23f3'\n",
    "driver.get(url)"
   ]
  },
  {
   "cell_type": "code",
   "execution_count": null,
   "id": "84f13dd1",
   "metadata": {},
   "outputs": [],
   "source": [
    "driver.find_element(By.XPATH,'//*[@id=\"container\"]/div/div[1]/div[1]/div[2]/div[2]/form/div/button').click()\n"
   ]
  },
  {
   "cell_type": "code",
   "execution_count": null,
   "id": "85ee70f2",
   "metadata": {},
   "outputs": [],
   "source": [
    "from selenium.common.exceptions import StaleElementReferenceException\n",
    "page_url = [] # a list containg url's of every page\n",
    "url = driver.find_elements(By.XPATH,\"//nav[@class='yFHi8N']//a\")\n",
    "for i in url:\n",
    "    page_url.append(i.get_attribute('href'))\n",
    "\n",
    "len(page_url)"
   ]
  },
  {
   "cell_type": "code",
   "execution_count": null,
   "id": "999fb0f9",
   "metadata": {},
   "outputs": [],
   "source": [
    "rating=[]\n",
    "review=[]\n",
    "fullre=[]\n",
    "for i in page_url:\n",
    "    driver.get(i)\n",
    "    rate=driver.find_elements_by_xpath('//div[@class=\"_3LWZlK _1BLPMq\"]')\n",
    "    for i in rate:\n",
    "        rating.append(i.text)\n",
    "    rev=driver.find_elements_by_class_name(\"_2-N8zT\")\n",
    "    for i in rev:\n",
    "        review.append(i.text)\n",
    "    fr=driver.find_elements_by_class_name(\"t-ZTKy\")\n",
    "    for i in fr:\n",
    "        fullre.append(i.text)"
   ]
  },
  {
   "cell_type": "code",
   "execution_count": null,
   "id": "b8ff708e",
   "metadata": {},
   "outputs": [],
   "source": [
    "print('\\033[1m'+'Iphone 11 Reviews from Flipkart :'+'\\033[0m')\n"
   ]
  },
  {
   "cell_type": "code",
   "execution_count": null,
   "id": "17889257",
   "metadata": {},
   "outputs": [],
   "source": [
    "Review_Iphone11= pd.DataFrame({})\n",
    "Review_Iphone11['Rating'] = Rating[:100]\n",
    "Review_Iphone11['Review Summary'] = Review_summary[:100] \n",
    "Review_Iphone11['Full Review'] = Full_review[:100]\n",
    "Review_Iphone11.tail()"
   ]
  },
  {
   "cell_type": "code",
   "execution_count": null,
   "id": "6f2e9bc2",
   "metadata": {},
   "outputs": [],
   "source": [
    "#Q6: Scrape data for first 100 sneakers you find when you visit flipkart.com and search for “sneakers” in the search field.\n",
    "#You have to scrape 4 attributes of each sneaker :\n",
    "\n",
    "#Brand\n",
    "#Product Description\n",
    "#Price\n",
    "#discount %"
   ]
  },
  {
   "cell_type": "code",
   "execution_count": null,
   "id": "aebffe59",
   "metadata": {},
   "outputs": [],
   "source": [
    "driver = webdriver.Chrome(r'chromedriver.exe')\n",
    "driver"
   ]
  },
  {
   "cell_type": "code",
   "execution_count": null,
   "id": "6c2014a8",
   "metadata": {},
   "outputs": [],
   "source": [
    "url ='https://www.flipkart.com/'\n",
    "driver.get(url)"
   ]
  },
  {
   "cell_type": "code",
   "execution_count": null,
   "id": "3ba2c9c3",
   "metadata": {},
   "outputs": [],
   "source": [
    "driver.find_element(By.XPATH,'//*[@id=\"container\"]/div/div[1]/div[1]/div[2]/div[2]/form/div/div/input').send_keys('sneakers')\n",
    "driver.find_element(By.XPATH,'//*[@id=\"container\"]/div/div[1]/div[1]/div[2]/div[2]/form/div/button').click()"
   ]
  },
  {
   "cell_type": "code",
   "execution_count": null,
   "id": "38aee638",
   "metadata": {},
   "outputs": [],
   "source": [
    "Brand=[]\n",
    "Product_Description=[]\n",
    "Price=[]\n",
    "Discount=[]"
   ]
  },
  {
   "cell_type": "code",
   "execution_count": null,
   "id": "b023d7da",
   "metadata": {},
   "outputs": [],
   "source": [
    "URL=[]\n",
    "for i in range(0,4):\n",
    "    sneakers=driver.find_elements(By.XPATH,\"//a[@class='IRpwTa']\")\n",
    "    for i in sneakers:\n",
    "        URL.append(i.get_attribute('href'))\n",
    "    driver.find_element(By.XPATH,'//a[@class=\"ge-49M\"]').click()\n",
    "    time.sleep(3)"
   ]
  },
  {
   "cell_type": "code",
   "execution_count": null,
   "id": "e939bb71",
   "metadata": {},
   "outputs": [],
   "source": [
    "URL"
   ]
  },
  {
   "cell_type": "code",
   "execution_count": null,
   "id": "d445afb6",
   "metadata": {},
   "outputs": [],
   "source": [
    "list_of_url=URL[0:100]\n"
   ]
  },
  {
   "cell_type": "code",
   "execution_count": null,
   "id": "75a4e9b3",
   "metadata": {},
   "outputs": [],
   "source": [
    "from tqdm import tqdm\n",
    "for i in tqdm(list_of_url):\n",
    "    driver.get(i)\n",
    "    try:\n",
    "        brand=driver.find_element(By.XPATH,\"//span[@class='G6XhRU']\").text\n",
    "        Brand.append(brand)\n",
    "        description=driver.find_element(By.XPATH,\"//span[@class='B_NuCI']\").text\n",
    "        Product_Description.append(description)\n",
    "        price=driver.find_element(By.XPATH,\"//div[@class='_30jeq3 _16Jk6d']\").text\n",
    "        Price.append(price)\n",
    "        discount=driver.find_element(By.XPATH,\"//div[@class='_3Ay6Sb _31Dcoz pZkvcx']/span\").text\n",
    "        Discount.append(discount)\n",
    "    except NoSuchElementException:\n",
    "        Brand.append(\"Null\")\n",
    "        Product_Description.append(\"Null\")\n",
    "        Price.append(\"Null\")\n",
    "        Discount.append('Null')\n",
    "    time.sleep(3)"
   ]
  },
  {
   "cell_type": "code",
   "execution_count": null,
   "id": "f1886799",
   "metadata": {},
   "outputs": [],
   "source": [
    "print(len(Brand),len(Product_Description),len(Price),len(Discount))\n"
   ]
  },
  {
   "cell_type": "code",
   "execution_count": null,
   "id": "69a17ee8",
   "metadata": {},
   "outputs": [],
   "source": [
    "Sneakers=pd.DataFrame({})\n",
    "Sneakers['Brand']=Brand[:100]\n",
    "Sneakers['Product_Description']=Product_Description[:100]\n",
    "Sneakers['Price']=Price[:100]\n",
    "Sneakers['Discount']=Discount[:100]\n",
    "Sneakers"
   ]
  },
  {
   "cell_type": "code",
   "execution_count": null,
   "id": "01ab05f1",
   "metadata": {},
   "outputs": [],
   "source": [
    "#Q7: Go to the link - https://www.myntra.com/shoes\n",
    "#Set second Price filter and Color filter to “Black”, \n",
    "#And then scrape First 100 shoes data you get. The data should include “Brand” of the shoes , Short Shoe\n",
    "#description, price of the shoe as shown in the below image."
   ]
  },
  {
   "cell_type": "code",
   "execution_count": null,
   "id": "3dcfd3b6",
   "metadata": {},
   "outputs": [],
   "source": [
    "driver = webdriver.Chrome(r'chromedriver.exe')\n",
    "driver"
   ]
  },
  {
   "cell_type": "code",
   "execution_count": null,
   "id": "5c8d3c03",
   "metadata": {},
   "outputs": [],
   "source": [
    "url ='https://www.myntra.com/shoes'\n",
    "driver.get(url)"
   ]
  },
  {
   "cell_type": "code",
   "execution_count": null,
   "id": "1243f941",
   "metadata": {},
   "outputs": [],
   "source": [
    "driver.find_element(By.XPATH,'//*[@id=\"mountRoot\"]/div/div[1]/main/div[3]/div[1]/section/div/div[6]/ul/li[1]/label').click()\n"
   ]
  },
  {
   "cell_type": "code",
   "execution_count": null,
   "id": "ca1ec0c5",
   "metadata": {},
   "outputs": [],
   "source": [
    "Brand=[]\n",
    "Product_Description=[]\n",
    "Price=[]"
   ]
  },
  {
   "cell_type": "code",
   "execution_count": null,
   "id": "91f8b655",
   "metadata": {},
   "outputs": [],
   "source": [
    "URL=[]\n",
    "for i in range(0,2):\n",
    "    shoes=driver.find_elements(By.XPATH,\"//li[@class='product-base']\")\n",
    "    for i in shoes:\n",
    "        shoes3=i.find_element(By.TAG_NAME,\"a\")\n",
    "        URL.append(shoes3.get_attribute('href'))\n",
    "    driver.find_element(By.XPATH,'//*[@id=\"desktopSearchResults\"]/div[2]/section/div[2]/ul/li[3]').click()\n",
    "    time.sleep(3)"
   ]
  },
  {
   "cell_type": "code",
   "execution_count": null,
   "id": "2c2f536b",
   "metadata": {},
   "outputs": [],
   "source": [
    "len(URL)\n"
   ]
  },
  {
   "cell_type": "code",
   "execution_count": null,
   "id": "091bd0e8",
   "metadata": {},
   "outputs": [],
   "source": [
    "name=[]\n",
    "des=[]\n",
    "price=[]\n",
    "for i in range(2):\n",
    "    \n",
    "    brand=driver.find_elements(By.CLASS_NAME,'product-brand')\n",
    "    for i in brand:\n",
    "        name.append(i.text)\n",
    "        \n",
    "    desc=driver.find_elements(By.CLASS_NAME,'product-product')\n",
    "    for i in desc:\n",
    "        des.append(i.text)\n",
    "        \n",
    "    pr=driver.find_elements(By.CLASS_NAME,'product-price')\n",
    "    for i in pr:\n",
    "        price.append(i.text)\n",
    "        \n",
    "    Next=driver.find_element(By.XPATH,'//a[@rel=\"next\"]')\n",
    "    Next.click\n",
    "    \n",
    "    \n",
    "que7=pd.DataFrame({'Brand Name':name,'Short Description':des,'Price':price})\n",
    "que7"
   ]
  },
  {
   "cell_type": "code",
   "execution_count": 20,
   "id": "02f12b43",
   "metadata": {},
   "outputs": [],
   "source": [
    "#Q8: Go to webpage https://www.amazon.in/\n",
    "#Enter “Laptop” in the search field and then click the search icon.\n",
    "#Then set CPU Type filter to “Intel Core i7” as shown in the below image:\n",
    "\n",
    "#After setting the filters scrape first 10 laptops data. You have to scrape 3 attributesfor each laptop:\n",
    "#1. Title\n",
    "#2. Ratings\n",
    "#3. Price\n"
   ]
  },
  {
   "cell_type": "code",
   "execution_count": null,
   "id": "c2891acb",
   "metadata": {},
   "outputs": [],
   "source": [
    "driver = webdriver.Chrome(r'chromedriver.exe')\n",
    "driver\n"
   ]
  },
  {
   "cell_type": "code",
   "execution_count": null,
   "id": "e25741f0",
   "metadata": {},
   "outputs": [],
   "source": [
    "url ='https://www.amazon.in/'\n",
    "driver.get(url)"
   ]
  },
  {
   "cell_type": "code",
   "execution_count": null,
   "id": "1555dbc3",
   "metadata": {},
   "outputs": [],
   "source": [
    "driver.find_element(By.XPATH,'//*[@id=\"twotabsearchtextbox\"]').send_keys('laptop')\n",
    "driver.find_element(By.XPATH,'//*[@id=\"nav-search-submit-button\"]').click()"
   ]
  },
  {
   "cell_type": "code",
   "execution_count": null,
   "id": "6b58b69c",
   "metadata": {},
   "outputs": [],
   "source": [
    "driver.find_element(By.XPATH,'//*[@id=\"p_n_feature_thirteen_browse-bin/12598163031\"]/span/a/div').click()\n",
    "driver.find_element(By.XPATH,'//*[@id=\"p_n_feature_thirteen_browse-bin/16757432031\"]/span').click()"
   ]
  },
  {
   "cell_type": "code",
   "execution_count": null,
   "id": "82d0a603",
   "metadata": {},
   "outputs": [],
   "source": [
    "title=[]\n",
    "rating=[]\n",
    "price=[]\n",
    "tt=driver.find_elements(By.XPATH,'//span[@class=\"a-size-medium a-color-base a-text-normal\"]')\n",
    "for i in tt:\n",
    "    title.append(i.text)\n",
    "    \n",
    "title=title[0:10]\n",
    "\n",
    "rat=driver.find_elements(By.CLASS_NAME,'a-icon-alt')\n",
    "for i in rat:\n",
    "    rating.append(i.get_attribute('textContent'))\n",
    "    \n",
    "rating=rating[0:10]\n",
    "\n",
    "pr=driver.find_elements(By.XPATH,'//span[@class=\"a-price-whole\"]')\n",
    "for i in pr:\n",
    "    price.append(i.text)\n",
    "    \n",
    "price=price[0:10]\n",
    "\n",
    "que8=pd.DataFrame({'Title':title,'Rating':rating,'Price':price})\n",
    "que8"
   ]
  },
  {
   "cell_type": "code",
   "execution_count": null,
   "id": "f69eb3a5",
   "metadata": {},
   "outputs": [],
   "source": []
  },
  {
   "cell_type": "code",
   "execution_count": null,
   "id": "f98899d2",
   "metadata": {},
   "outputs": [],
   "source": []
  },
  {
   "cell_type": "code",
   "execution_count": null,
   "id": "abdef985",
   "metadata": {},
   "outputs": [],
   "source": []
  },
  {
   "cell_type": "code",
   "execution_count": null,
   "id": "032a0153",
   "metadata": {},
   "outputs": [],
   "source": []
  },
  {
   "cell_type": "code",
   "execution_count": null,
   "id": "a04550fc",
   "metadata": {},
   "outputs": [],
   "source": []
  },
  {
   "cell_type": "code",
   "execution_count": null,
   "id": "fde72b1a",
   "metadata": {},
   "outputs": [],
   "source": []
  },
  {
   "cell_type": "code",
   "execution_count": null,
   "id": "ae73df08",
   "metadata": {},
   "outputs": [],
   "source": []
  },
  {
   "cell_type": "code",
   "execution_count": null,
   "id": "530c6440",
   "metadata": {},
   "outputs": [],
   "source": []
  },
  {
   "cell_type": "code",
   "execution_count": null,
   "id": "d2b52d7c",
   "metadata": {},
   "outputs": [],
   "source": []
  }
 ],
 "metadata": {
  "kernelspec": {
   "display_name": "Python 3 (ipykernel)",
   "language": "python",
   "name": "python3"
  },
  "language_info": {
   "codemirror_mode": {
    "name": "ipython",
    "version": 3
   },
   "file_extension": ".py",
   "mimetype": "text/x-python",
   "name": "python",
   "nbconvert_exporter": "python",
   "pygments_lexer": "ipython3",
   "version": "3.9.13"
  }
 },
 "nbformat": 4,
 "nbformat_minor": 5
}
